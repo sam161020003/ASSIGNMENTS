{
 "cells": [
  {
   "cell_type": "code",
   "execution_count": null,
   "id": "1e1c93ae-80dc-4e04-876f-02df1ba5ef20",
   "metadata": {},
   "outputs": [],
   "source": [
    "Q1. Create one variable containing following type of data:\n",
    "(i) string\n",
    "(ii) list\n",
    "(iii) float\n",
    "(iv) tuple\n",
    "\n",
    "ANS\n",
    "s='samarth'\n",
    "l=[1,2,3,4]\n",
    "a=12.34\n",
    "b=(78,True,56.34)"
   ]
  },
  {
   "cell_type": "code",
   "execution_count": null,
   "id": "d42abadf-5bc5-467b-9a71-358172a32fc8",
   "metadata": {},
   "outputs": [],
   "source": [
    "Q2. Given are some following variables containing data:\n",
    "(i) var1 = ‘ ‘\n",
    "(ii) var2 = ‘[ DS , ML , Python]’\n",
    "(iii) var3 = [ ‘DS’ , ’ML’ , ‘Python’ ]\n",
    "(iv) var4 = 1.\n",
    "What will be the data type of the above given variable.\n",
    "\n",
    "ANS\n",
    "\n",
    "string\n",
    "string\n",
    "list\n",
    "int"
   ]
  },
  {
   "cell_type": "code",
   "execution_count": null,
   "id": "9c260332-e50d-4062-82b6-f7cb963caeda",
   "metadata": {},
   "outputs": [],
   "source": [
    "Q3. Explain the use of the following operators using an example:\n",
    "(i) /\n",
    "(ii) %\n",
    "(iii) //\n",
    "(iv) **\n",
    "\n",
    "Ans\n",
    "\n",
    "The division operator / is used to divide one number by another and obtain the quotient \n",
    "The modulus operator % is used to find the remainder when one number is divided by another\n",
    "The floor division operator // is used to divide one number by another and obtain the quotient as an integer, rounded down to the nearest whole number.\n",
    "The exponentiation operator ** is used to raise a number to a certain power. "
   ]
  },
  {
   "cell_type": "code",
   "execution_count": null,
   "id": "e2078212-1d12-4b94-ad0a-8af7aa7ae5af",
   "metadata": {},
   "outputs": [],
   "source": [
    "Q4. Create a list of length 10 of your choice containing multiple types of data. Using for loop print the\n",
    "element and its data type.\n",
    "\n",
    "ANS\n",
    "data_list = [10, 3.14, \"Hello\", True, [1, 2, 3], (4, 5, 6), {\"name\": \"Alice\", \"age\": 30}, None, 5 + 2j, False]\n",
    "\n",
    "for i in data_list:\n",
    "    print(f\"Element: {i}, Data Type: {type(i)}\")\n"
   ]
  },
  {
   "cell_type": "code",
   "execution_count": null,
   "id": "a6356f35-345c-4ebc-a735-8dbc6071cb87",
   "metadata": {},
   "outputs": [],
   "source": [
    "Q5. Using a while loop, verify if the number A is purely divisible by number B and if so then how many\n",
    "times it can be divisible.\n",
    "\n",
    "ANS\n",
    "\n",
    "A = int(input(\"Enter the dividend (number A): \"))\n",
    "B = int(input(\"Enter the divisor (number B): \"))\n",
    "\n",
    "if B == 0:\n",
    "    print(\"Cannot divide by zero.\")\n",
    "else:\n",
    "    count = 0\n",
    "    while A >= B:\n",
    "        A -= B\n",
    "        count += 1\n",
    "\n",
    "    if A == 0:\n",
    "        print(f\"{B} divides {A} completely, {count} times.\")\n",
    "    else:\n",
    "        print(f\"{B} does not divide {A} completely. Remainder: {A}\")\n"
   ]
  },
  {
   "cell_type": "code",
   "execution_count": null,
   "id": "cb401a72-50ba-4fbe-a9f7-0446c4fc5fb0",
   "metadata": {},
   "outputs": [],
   "source": [
    "Q6. Create a list containing 25 int type data. Using for loop and if-else condition print if the element is\n",
    "divisible by 3 or not.\n",
    "\n",
    "ANS\n",
    "\n",
    "data_list = [6, 12, 7, 9, 15, 18, 20, 21, 25, 27,\n",
    "             30, 33, 36, 40, 42, 45, 48, 50, 51, 54,\n",
    "             57, 60, 63, 66, 70]\n",
    "\n",
    "for element in data_list:\n",
    "    if element % 3 == 0:\n",
    "        print(f\"{element} is divisible by 3.\")\n",
    "    else:\n",
    "        print(f\"{element} is not divisible by 3.\")\n"
   ]
  },
  {
   "cell_type": "code",
   "execution_count": null,
   "id": "f9ef1847-8227-4f19-8f8f-bd62e35b4017",
   "metadata": {},
   "outputs": [],
   "source": [
    "Q7. What do you understand about mutable and immutable data types? Give examples for both showing\n",
    "this property.\n",
    "\n",
    "ANS\n",
    "\n",
    "Immutable data types are those whose values cannot be changed after they are created. If you want to modify an immutable object, you have to create a new object with the desired changes. Immutable objects are safe from unintended modifications.\n",
    "EX: int,float,string\n",
    "\n",
    "Mutable data types are those whose values can be changed after they are created. This means you can modify the object's contents without creating a new object.\n",
    "ex:\n",
    "    list,dict,set"
   ]
  }
 ],
 "metadata": {
  "kernelspec": {
   "display_name": "Python 3 (ipykernel)",
   "language": "python",
   "name": "python3"
  },
  "language_info": {
   "codemirror_mode": {
    "name": "ipython",
    "version": 3
   },
   "file_extension": ".py",
   "mimetype": "text/x-python",
   "name": "python",
   "nbconvert_exporter": "python",
   "pygments_lexer": "ipython3",
   "version": "3.10.8"
  }
 },
 "nbformat": 4,
 "nbformat_minor": 5
}
